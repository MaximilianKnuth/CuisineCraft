{
 "cells": [
  {
   "cell_type": "code",
   "execution_count": 12,
   "id": "85c4a38b-178b-4bce-a9b6-56abeac6a2f1",
   "metadata": {},
   "outputs": [
    {
     "data": {
      "text/html": [
       "<div>\n",
       "<style scoped>\n",
       "    .dataframe tbody tr th:only-of-type {\n",
       "        vertical-align: middle;\n",
       "    }\n",
       "\n",
       "    .dataframe tbody tr th {\n",
       "        vertical-align: top;\n",
       "    }\n",
       "\n",
       "    .dataframe thead th {\n",
       "        text-align: right;\n",
       "    }\n",
       "</style>\n",
       "<table border=\"1\" class=\"dataframe\">\n",
       "  <thead>\n",
       "    <tr style=\"text-align: right;\">\n",
       "      <th></th>\n",
       "      <th>id</th>\n",
       "      <th>title</th>\n",
       "      <th>instructions_full</th>\n",
       "      <th>ingredients_clean</th>\n",
       "      <th>full_embedding</th>\n",
       "    </tr>\n",
       "  </thead>\n",
       "  <tbody>\n",
       "    <tr>\n",
       "      <th>0</th>\n",
       "      <td>000095fc1d</td>\n",
       "      <td>Yogurt Parfaits</td>\n",
       "      <td>Layer all ingredients in a serving dish.</td>\n",
       "      <td>[non - fat vanilla yogurt, strawberries, low -...</td>\n",
       "      <td>[0.007353680208325386, -0.1631745994091034, -0...</td>\n",
       "    </tr>\n",
       "  </tbody>\n",
       "</table>\n",
       "</div>"
      ],
      "text/plain": [
       "           id            title                         instructions_full  \\\n",
       "0  000095fc1d  Yogurt Parfaits  Layer all ingredients in a serving dish.   \n",
       "\n",
       "                                   ingredients_clean  \\\n",
       "0  [non - fat vanilla yogurt, strawberries, low -...   \n",
       "\n",
       "                                      full_embedding  \n",
       "0  [0.007353680208325386, -0.1631745994091034, -0...  "
      ]
     },
     "execution_count": 12,
     "metadata": {},
     "output_type": "execute_result"
    }
   ],
   "source": [
    "import numpy as np\n",
    "import pandas as pd\n",
    "\"\"\"Index(['id', 'title', 'ingredients_raw', 'instructions_full',\n",
    "    'ingredients_clean', 'title_nutrition', 'url_nutrition', 'instructions',\n",
    "    'ingredients_structured', 'nutrition_per_100g', 'fsa_lights_per_100g',\n",
    "    'clean_title', 'clean_instructions', 'text_for_embedding',\n",
    "    'nutrition_dict', 'nutrition_features', 'fsa_dict', 'fsa_features',\n",
    "    'nutrition_energy', 'nutrition_fat', 'nutrition_protein',\n",
    "    'nutrition_salt', 'nutrition_saturates', 'nutrition_sugars',\n",
    "    'nutrition_vector', 'fsa_fat', 'fsa_saturates', 'fsa_sugars',\n",
    "    'fsa_salt', 'fsa_vector', 'title_instruction_embedding',\n",
    "    'enhanced_nutrition_embedding', 'enhanced_fsa_embedding',\n",
    "    'partial_combined_embedding', 'ingredients_embedding',\n",
    "    'full_embedding'],\n",
    "    dtype='object')\n",
    "\"\"\"\n",
    "all_embeddings = pd.read_pickle(\"embeddings/full_recipe_embeddings.pkl\")\n",
    "all_embeddings=all_embeddings[['id', 'title','instructions_full','ingredients_clean','full_embedding']]\n",
    "all_embeddings.head(1)"
   ]
  },
  {
   "cell_type": "code",
   "execution_count": 13,
   "id": "045c809b-339a-4345-9780-82967ad1e4a8",
   "metadata": {},
   "outputs": [],
   "source": [
    "def create_query_embedding(self, ingredients, dietary_preference, nutrition_goals=None):\n",
    "    \"\"\"\n",
    "    Create a query embedding of length 1177 to match the recipe full_embedding.\n",
    "    Allows optional user-provided nutrition goals.\n",
    "\n",
    "    Parameters:\n",
    "    - ingredients: list of strings\n",
    "    - dietary_preference: string\n",
    "    - nutrition_goals: dict with optional keys:\n",
    "        'energy', 'fat', 'saturates', 'carbohydrate', 'sugars',\n",
    "        'fibre', 'protein', 'salt'\n",
    "\n",
    "    Returns:\n",
    "    - query_embedding: np.ndarray of shape (1177,)\n",
    "    \"\"\"\n",
    "    logger.info(\"Creating query embedding...\")\n",
    "\n",
    "    # --- Step 1: Dietary preference embedding (768)\n",
    "    preference_emb = self.create_text_embeddings([dietary_preference])[0]\n",
    "\n",
    "    # --- Step 2: Nutrition embedding (15)\n",
    "    if nutrition_goals is not None:\n",
    "        # Ordered features\n",
    "        keys = ['energy', 'fat', 'saturates', 'carbohydrate', 'sugars', 'fibre', 'protein', 'salt']\n",
    "        raw_nutrition = [nutrition_goals.get(k, 0) for k in keys]\n",
    "        derived_nutrition = self.create_nutrition_embeddings([raw_nutrition])[0]\n",
    "    else:\n",
    "        derived_nutrition = np.zeros(15)\n",
    "\n",
    "    # --- Step 3: FSA (keep dummy unless explicitly provided later) (9)\n",
    "    dummy_fsa = np.zeros(9)\n",
    "\n",
    "    # --- Step 4: Ingredient embedding (385)\n",
    "    ingredient_text = \" \"._\n"
   ]
  },
  {
   "cell_type": "code",
   "execution_count": 14,
   "id": "b9e2910a-1bde-4065-bbdc-a92ced8555d6",
   "metadata": {},
   "outputs": [],
   "source": [
    "import faiss\n",
    "import numpy as np\n",
    "\n",
    "def recommend_recipes(\n",
    "    ingredients,\n",
    "    dietary_preference,\n",
    "    embedder,\n",
    "    df,\n",
    "    faiss_index_path=\"recipe_faiss_index.idx\",\n",
    "    nutrition_goals=None,\n",
    "    top_k=10\n",
    "):\n",
    "    \"\"\"\n",
    "    Search for recipes matching user query.\n",
    "\n",
    "    Parameters:\n",
    "    - ingredients (list of str): List of ingredients user has\n",
    "    - dietary_preference (str): e.g., 'low carb'\n",
    "    - embedder (RecipeEmbedder): Initialized embedder class\n",
    "    - df (pd.DataFrame): DataFrame with full embeddings\n",
    "    - faiss_index_path (str): Path to FAISS index file\n",
    "    - nutrition_goals (dict): Optional nutrition goal inputs\n",
    "    - top_k (int): Number of results to return\n",
    "\n",
    "    Returns:\n",
    "    - pd.DataFrame with top_k recipes and similarity distances\n",
    "    \"\"\"\n",
    "    # Step 1: Create query embedding\n",
    "    query_vector = embedder.create_query_embedding(\n",
    "        ingredients=ingredients,\n",
    "        dietary_preference=dietary_preference,\n",
    "        nutrition_goals=nutrition_goals\n",
    "    ).reshape(1, -1)\n",
    "\n",
    "    # Step 2: Load FAISS index\n",
    "    index = faiss.read_index(faiss_index_path)\n",
    "\n",
    "    # Step 3: Perform similarity search\n",
    "    D, I = index.search(query_vector.astype(\"float32\"), top_k)\n",
    "\n",
    "    # Step 4: Retrieve matching recipes from df\n",
    "    results = df.iloc[I[0]].copy()\n",
    "    results[\"similarity_distance\"] = D[0]\n",
    "\n",
    "    return results\n"
   ]
  },
  {
   "cell_type": "code",
   "execution_count": 15,
   "id": "98f218a7-fe4d-45eb-ade7-219bcba9571c",
   "metadata": {},
   "outputs": [
    {
     "name": "stderr",
     "output_type": "stream",
     "text": [
      "2025-04-24 00:28:00,842 - INFO - Using device: cpu\n",
      "2025-04-24 00:28:01,008 - INFO - Creating query embedding...\n",
      "2025-04-24 00:28:01,009 - INFO - Creating embeddings for 1 texts with batch size 32...\n"
     ]
    },
    {
     "name": "stdout",
     "output_type": "stream",
     "text": [
      "Adding directory\n",
      "device: cpu\n"
     ]
    },
    {
     "name": "stderr",
     "output_type": "stream",
     "text": [
      "100%|██████████| 1/1 [00:00<00:00, 11.14it/s]\n",
      "2025-04-24 00:28:01,101 - INFO - Creating enhanced nutrition embeddings...\n",
      "2025-04-24 00:28:01,102 - INFO - Creating embeddings for 1 texts with batch size 32...\n",
      "100%|██████████| 1/1 [00:00<00:00, 14.59it/s]\n"
     ]
    },
    {
     "name": "stdout",
     "output_type": "stream",
     "text": [
      "preference_emb: (768,)\n",
      "derived_nutrition: (15,)\n",
      "dummy_fsa: (9,)\n",
      "ingredient_emb: (385,)\n",
      "Total combined: (1177,)\n"
     ]
    },
    {
     "data": {
      "text/html": [
       "<div>\n",
       "<style scoped>\n",
       "    .dataframe tbody tr th:only-of-type {\n",
       "        vertical-align: middle;\n",
       "    }\n",
       "\n",
       "    .dataframe tbody tr th {\n",
       "        vertical-align: top;\n",
       "    }\n",
       "\n",
       "    .dataframe thead th {\n",
       "        text-align: right;\n",
       "    }\n",
       "</style>\n",
       "<table border=\"1\" class=\"dataframe\">\n",
       "  <thead>\n",
       "    <tr style=\"text-align: right;\">\n",
       "      <th></th>\n",
       "      <th>title</th>\n",
       "      <th>instructions_full</th>\n",
       "      <th>similarity_distance</th>\n",
       "    </tr>\n",
       "  </thead>\n",
       "  <tbody>\n",
       "    <tr>\n",
       "      <th>18175</th>\n",
       "      <td>Apple Harvest Rice Recipe</td>\n",
       "      <td>Cook carrots in margarine til tender-crisp, ab...</td>\n",
       "      <td>26.995068</td>\n",
       "    </tr>\n",
       "    <tr>\n",
       "      <th>11323</th>\n",
       "      <td>Low Carb Chicken Salad</td>\n",
       "      <td>Combine all ingredients and serve on whole gra...</td>\n",
       "      <td>27.027374</td>\n",
       "    </tr>\n",
       "    <tr>\n",
       "      <th>34035</th>\n",
       "      <td>Olive, Thyme, and Orange Chicken</td>\n",
       "      <td>mix olives, thyme, orange, and red pepper. let...</td>\n",
       "      <td>27.203611</td>\n",
       "    </tr>\n",
       "    <tr>\n",
       "      <th>10746</th>\n",
       "      <td>High Protein Diet Bread</td>\n",
       "      <td>Follow manufacturer's directions for order of ...</td>\n",
       "      <td>27.274790</td>\n",
       "    </tr>\n",
       "    <tr>\n",
       "      <th>26230</th>\n",
       "      <td>Easy Flavorful Chicken Recipe</td>\n",
       "      <td>Heat Olive Oil in a large skillet over medium ...</td>\n",
       "      <td>27.280203</td>\n",
       "    </tr>\n",
       "  </tbody>\n",
       "</table>\n",
       "</div>"
      ],
      "text/plain": [
       "                                  title  \\\n",
       "18175         Apple Harvest Rice Recipe   \n",
       "11323            Low Carb Chicken Salad   \n",
       "34035  Olive, Thyme, and Orange Chicken   \n",
       "10746           High Protein Diet Bread   \n",
       "26230     Easy Flavorful Chicken Recipe   \n",
       "\n",
       "                                       instructions_full  similarity_distance  \n",
       "18175  Cook carrots in margarine til tender-crisp, ab...            26.995068  \n",
       "11323  Combine all ingredients and serve on whole gra...            27.027374  \n",
       "34035  mix olives, thyme, orange, and red pepper. let...            27.203611  \n",
       "10746  Follow manufacturer's directions for order of ...            27.274790  \n",
       "26230  Heat Olive Oil in a large skillet over medium ...            27.280203  "
      ]
     },
     "execution_count": 15,
     "metadata": {},
     "output_type": "execute_result"
    }
   ],
   "source": [
    "print('Adding directory')\n",
    "# Add the directory containing the file to sys.path\n",
    "import os\n",
    "import sys\n",
    "import logging\n",
    "import torch\n",
    "module_path = os.path.abspath(os.path.join('..', '99_6.C01'))\n",
    "\n",
    "if module_path not in sys.path:\n",
    "    sys.path.append(module_path)\n",
    "#from load_complete_df import return_df_final\n",
    "from RecipeEmbedder import RecipeEmbedder\n",
    "#from RecipePreprocessor import RecipePreprocessor\n",
    "# Configure logging\n",
    "logging.basicConfig(level=logging.INFO, format='%(asctime)s - %(levelname)s - %(message)s')\n",
    "logger = logging.getLogger(__name__)\n",
    "\n",
    "# Suppress specific warnings\n",
    "#warnings.filterwarnings(\"ignore\", category=UserWarning)\n",
    "\n",
    "# Check for GPU availability\n",
    "device = torch.device(\"cuda\" if torch.cuda.is_available() else \"cpu\")\n",
    "logger.info(f\"Using device: {device}\")\n",
    "\n",
    "\n",
    "results_df = recommend_recipes(\n",
    "    ingredients=[\"chicken\", \"olive oil\"],\n",
    "    dietary_preference=\"chicken, olive oil, mean high protein\",\n",
    "    embedder=RecipeEmbedder(logger = logger),\n",
    "    df=all_embeddings,  # Load with pd.read_pickle if needed\n",
    "    faiss_index_path=\"recipe_faiss_index.idx\",\n",
    "    nutrition_goals={\"protein\": 30, \"fat\": 10},\n",
    "    top_k=5\n",
    ")\n",
    "\n",
    "# View top results\n",
    "results_df[[\"title\", \"instructions_full\", \"similarity_distance\"]]\n"
   ]
  },
  {
   "cell_type": "code",
   "execution_count": 7,
   "id": "c6bfe964-c086-42a4-98de-c836211e9f7c",
   "metadata": {},
   "outputs": [
    {
     "ename": "NameError",
     "evalue": "name 'results_df' is not defined",
     "output_type": "error",
     "traceback": [
      "\u001b[0;31m---------------------------------------------------------------------------\u001b[0m",
      "\u001b[0;31mNameError\u001b[0m                                 Traceback (most recent call last)",
      "Cell \u001b[0;32mIn[7], line 7\u001b[0m\n\u001b[1;32m      3\u001b[0m         \u001b[38;5;28;01mreturn\u001b[39;00m \u001b[38;5;28mall\u001b[39m(\u001b[38;5;28many\u001b[39m(ai \u001b[38;5;129;01min\u001b[39;00m ing\u001b[38;5;241m.\u001b[39mlower() \u001b[38;5;28;01mfor\u001b[39;00m ing \u001b[38;5;129;01min\u001b[39;00m row_ingredients) \u001b[38;5;28;01mfor\u001b[39;00m ai \u001b[38;5;129;01min\u001b[39;00m allowed_ingredients)\n\u001b[1;32m      5\u001b[0m     \u001b[38;5;28;01mreturn\u001b[39;00m df[df[ingredient_col]\u001b[38;5;241m.\u001b[39mapply(is_valid)]\n\u001b[0;32m----> 7\u001b[0m filtered_results \u001b[38;5;241m=\u001b[39m filter_by_available_ingredients(\u001b[43mresults_df\u001b[49m, allowed_ingredients\u001b[38;5;241m=\u001b[39m[\u001b[38;5;124m\"\u001b[39m\u001b[38;5;124mchicken\u001b[39m\u001b[38;5;124m\"\u001b[39m, \u001b[38;5;124m\"\u001b[39m\u001b[38;5;124molive oil\u001b[39m\u001b[38;5;124m\"\u001b[39m])\n\u001b[1;32m      8\u001b[0m filtered_results\u001b[38;5;241m.\u001b[39mhead()\n",
      "\u001b[0;31mNameError\u001b[0m: name 'results_df' is not defined"
     ]
    }
   ],
   "source": [
    "def filter_by_available_ingredients(df, allowed_ingredients, ingredient_col=\"ingredients_clean\"):\n",
    "    def is_valid(row_ingredients):\n",
    "        return all(any(ai in ing.lower() for ing in row_ingredients) for ai in allowed_ingredients)\n",
    "    \n",
    "    return df[df[ingredient_col].apply(is_valid)]\n",
    "\n",
    "filtered_results = filter_by_available_ingredients(results_df, allowed_ingredients=[\"chicken\", \"olive oil\"])\n",
    "filtered_results.head()"
   ]
  },
  {
   "cell_type": "code",
   "execution_count": 5,
   "id": "749338b0-0179-48f0-affa-8e14ba065f55",
   "metadata": {},
   "outputs": [
    {
     "name": "stdout",
     "output_type": "stream",
     "text": [
      "device: cpu\n"
     ]
    },
    {
     "data": {
      "text/plain": [
       "{'input_ids': [[0, 7596, 2]], 'attention_mask': [[1, 1, 1]]}"
      ]
     },
     "execution_count": 5,
     "metadata": {},
     "output_type": "execute_result"
    }
   ],
   "source": [
    "from transformers import AutoTokenizer, AutoModel\n",
    "import torch\n",
    "\n",
    "\"\"\"Initialize the embedder with the specified model\"\"\"\n",
    "device = torch.device(\"cuda\" if torch.cuda.is_available() else \"cpu\")\n",
    "print(f'device: {device}')\n",
    "model_path = \"sentence-transformers/all-mpnet-base-v2\"\n",
    "#model_path = \"all-mpnet-base-v2\"\n",
    "\n",
    "# Force offline mode\n",
    "#os.environ[\"HF_HUB_OFFLINE\"] = \"1\"\n",
    "#os.environ[\"TRANSFORMERS_OFFLINE\"] = \"1\"\n",
    "#os.environ[\"TRANSFORMERS_NO_ADVISORY_LOCKING\"] = \"1\"\n",
    "#self.tokenizer = AutoTokenizer.from_pretrained(model_path, local_files_only=True)\n",
    "#self.model = AutoModel.from_pretrained(model_path, local_files_only=True).to(self.device)\n",
    "tokenizer = AutoTokenizer.from_pretrained(model_path)\n",
    "model = AutoModel.from_pretrained(model_path).to(device)\n",
    "tokenizer([\"hello\"])"
   ]
  },
  {
   "cell_type": "code",
   "execution_count": null,
   "id": "a3ddab47",
   "metadata": {},
   "outputs": [],
   "source": []
  }
 ],
 "metadata": {
  "kernelspec": {
   "display_name": "6_C011",
   "language": "python",
   "name": "python3"
  },
  "language_info": {
   "codemirror_mode": {
    "name": "ipython",
    "version": 3
   },
   "file_extension": ".py",
   "mimetype": "text/x-python",
   "name": "python",
   "nbconvert_exporter": "python",
   "pygments_lexer": "ipython3",
   "version": "3.10.17"
  }
 },
 "nbformat": 4,
 "nbformat_minor": 5
}
